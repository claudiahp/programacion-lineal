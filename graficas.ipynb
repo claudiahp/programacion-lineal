{
 "cells": [
  {
   "cell_type": "code",
   "execution_count": 1,
   "metadata": {},
   "outputs": [],
   "source": [
    "import matplotlib.pyplot as plt\n",
    "import numpy as np"
   ]
  },
  {
   "cell_type": "code",
   "execution_count": 23,
   "metadata": {},
   "outputs": [],
   "source": [
    "x=np.linspace(-20,20,300)"
   ]
  },
  {
   "cell_type": "code",
   "execution_count": 24,
   "metadata": {},
   "outputs": [
    {
     "data": {
      "text/plain": [
       "array([-20.        , -19.86622074, -19.73244147, -19.59866221,\n",
       "       -19.46488294, -19.33110368, -19.19732441, -19.06354515,\n",
       "       -18.92976589, -18.79598662, -18.66220736, -18.52842809,\n",
       "       -18.39464883, -18.26086957, -18.1270903 , -17.99331104,\n",
       "       -17.85953177, -17.72575251, -17.59197324, -17.45819398,\n",
       "       -17.32441472, -17.19063545, -17.05685619, -16.92307692,\n",
       "       -16.78929766, -16.65551839, -16.52173913, -16.38795987,\n",
       "       -16.2541806 , -16.12040134, -15.98662207, -15.85284281,\n",
       "       -15.71906355, -15.58528428, -15.45150502, -15.31772575,\n",
       "       -15.18394649, -15.05016722, -14.91638796, -14.7826087 ,\n",
       "       -14.64882943, -14.51505017, -14.3812709 , -14.24749164,\n",
       "       -14.11371237, -13.97993311, -13.84615385, -13.71237458,\n",
       "       -13.57859532, -13.44481605, -13.31103679, -13.17725753,\n",
       "       -13.04347826, -12.909699  , -12.77591973, -12.64214047,\n",
       "       -12.5083612 , -12.37458194, -12.24080268, -12.10702341,\n",
       "       -11.97324415, -11.83946488, -11.70568562, -11.57190635,\n",
       "       -11.43812709, -11.30434783, -11.17056856, -11.0367893 ,\n",
       "       -10.90301003, -10.76923077, -10.63545151, -10.50167224,\n",
       "       -10.36789298, -10.23411371, -10.10033445,  -9.96655518,\n",
       "        -9.83277592,  -9.69899666,  -9.56521739,  -9.43143813,\n",
       "        -9.29765886,  -9.1638796 ,  -9.03010033,  -8.89632107,\n",
       "        -8.76254181,  -8.62876254,  -8.49498328,  -8.36120401,\n",
       "        -8.22742475,  -8.09364548,  -7.95986622,  -7.82608696,\n",
       "        -7.69230769,  -7.55852843,  -7.42474916,  -7.2909699 ,\n",
       "        -7.15719064,  -7.02341137,  -6.88963211,  -6.75585284,\n",
       "        -6.62207358,  -6.48829431,  -6.35451505,  -6.22073579,\n",
       "        -6.08695652,  -5.95317726,  -5.81939799,  -5.68561873,\n",
       "        -5.55183946,  -5.4180602 ,  -5.28428094,  -5.15050167,\n",
       "        -5.01672241,  -4.88294314,  -4.74916388,  -4.61538462,\n",
       "        -4.48160535,  -4.34782609,  -4.21404682,  -4.08026756,\n",
       "        -3.94648829,  -3.81270903,  -3.67892977,  -3.5451505 ,\n",
       "        -3.41137124,  -3.27759197,  -3.14381271,  -3.01003344,\n",
       "        -2.87625418,  -2.74247492,  -2.60869565,  -2.47491639,\n",
       "        -2.34113712,  -2.20735786,  -2.0735786 ,  -1.93979933,\n",
       "        -1.80602007,  -1.6722408 ,  -1.53846154,  -1.40468227,\n",
       "        -1.27090301,  -1.13712375,  -1.00334448,  -0.86956522,\n",
       "        -0.73578595,  -0.60200669,  -0.46822742,  -0.33444816,\n",
       "        -0.2006689 ,  -0.06688963,   0.06688963,   0.2006689 ,\n",
       "         0.33444816,   0.46822742,   0.60200669,   0.73578595,\n",
       "         0.86956522,   1.00334448,   1.13712375,   1.27090301,\n",
       "         1.40468227,   1.53846154,   1.6722408 ,   1.80602007,\n",
       "         1.93979933,   2.0735786 ,   2.20735786,   2.34113712,\n",
       "         2.47491639,   2.60869565,   2.74247492,   2.87625418,\n",
       "         3.01003344,   3.14381271,   3.27759197,   3.41137124,\n",
       "         3.5451505 ,   3.67892977,   3.81270903,   3.94648829,\n",
       "         4.08026756,   4.21404682,   4.34782609,   4.48160535,\n",
       "         4.61538462,   4.74916388,   4.88294314,   5.01672241,\n",
       "         5.15050167,   5.28428094,   5.4180602 ,   5.55183946,\n",
       "         5.68561873,   5.81939799,   5.95317726,   6.08695652,\n",
       "         6.22073579,   6.35451505,   6.48829431,   6.62207358,\n",
       "         6.75585284,   6.88963211,   7.02341137,   7.15719064,\n",
       "         7.2909699 ,   7.42474916,   7.55852843,   7.69230769,\n",
       "         7.82608696,   7.95986622,   8.09364548,   8.22742475,\n",
       "         8.36120401,   8.49498328,   8.62876254,   8.76254181,\n",
       "         8.89632107,   9.03010033,   9.1638796 ,   9.29765886,\n",
       "         9.43143813,   9.56521739,   9.69899666,   9.83277592,\n",
       "         9.96655518,  10.10033445,  10.23411371,  10.36789298,\n",
       "        10.50167224,  10.63545151,  10.76923077,  10.90301003,\n",
       "        11.0367893 ,  11.17056856,  11.30434783,  11.43812709,\n",
       "        11.57190635,  11.70568562,  11.83946488,  11.97324415,\n",
       "        12.10702341,  12.24080268,  12.37458194,  12.5083612 ,\n",
       "        12.64214047,  12.77591973,  12.909699  ,  13.04347826,\n",
       "        13.17725753,  13.31103679,  13.44481605,  13.57859532,\n",
       "        13.71237458,  13.84615385,  13.97993311,  14.11371237,\n",
       "        14.24749164,  14.3812709 ,  14.51505017,  14.64882943,\n",
       "        14.7826087 ,  14.91638796,  15.05016722,  15.18394649,\n",
       "        15.31772575,  15.45150502,  15.58528428,  15.71906355,\n",
       "        15.85284281,  15.98662207,  16.12040134,  16.2541806 ,\n",
       "        16.38795987,  16.52173913,  16.65551839,  16.78929766,\n",
       "        16.92307692,  17.05685619,  17.19063545,  17.32441472,\n",
       "        17.45819398,  17.59197324,  17.72575251,  17.85953177,\n",
       "        17.99331104,  18.1270903 ,  18.26086957,  18.39464883,\n",
       "        18.52842809,  18.66220736,  18.79598662,  18.92976589,\n",
       "        19.06354515,  19.19732441,  19.33110368,  19.46488294,\n",
       "        19.59866221,  19.73244147,  19.86622074,  20.        ])"
      ]
     },
     "execution_count": 24,
     "metadata": {},
     "output_type": "execute_result"
    }
   ],
   "source": [
    "x"
   ]
  },
  {
   "cell_type": "code",
   "execution_count": 25,
   "metadata": {},
   "outputs": [],
   "source": [
    "y=np.sin(x)*np.exp(-0.1*x)"
   ]
  },
  {
   "cell_type": "code",
   "execution_count": 26,
   "metadata": {},
   "outputs": [
    {
     "data": {
      "text/plain": [
       "array([-6.74580367e+00, -6.19984290e+00, -5.55788101e+00, -4.83388545e+00,\n",
       "       -4.04291588e+00, -3.20082711e+00, -2.32396581e+00, -1.42886631e+00,\n",
       "       -5.31951246e-01,  3.50757980e-01,  1.20391596e+00,  2.01310870e+00,\n",
       "        2.76508574e+00,  3.44796544e+00,  4.05141040e+00,  4.56677083e+00,\n",
       "        4.98719404e+00,  5.30769901e+00,  5.52521571e+00,  5.63858932e+00,\n",
       "        5.64855022e+00,  5.55765122e+00,  5.37017398e+00,  5.09200712e+00,\n",
       "        4.73049890e+00,  4.29428786e+00,  3.79311485e+00,  3.23762050e+00,\n",
       "        2.63913194e+00,  2.00944295e+00,  1.36059158e+00,  7.04639364e-01,\n",
       "        5.34558404e-02, -5.81487744e-01, -1.18931222e+00, -1.75990861e+00,\n",
       "       -2.28409783e+00, -2.75376962e+00, -3.16199877e+00, -3.50313713e+00,\n",
       "       -3.77288052e+00, -3.96830990e+00, -4.08790678e+00, -4.13154326e+00,\n",
       "       -4.10044766e+00, -3.99714678e+00, -3.82538662e+00, -3.59003353e+00,\n",
       "       -3.29695790e+00, -2.95290317e+00, -2.56534261e+00, -2.14232702e+00,\n",
       "       -1.69232609e+00, -1.22406647e+00, -7.46369604e-01, -2.67992106e-01,\n",
       "        2.02528467e-01,  6.57019889e-01,  1.08781116e+00,  1.48785587e+00,\n",
       "        1.85084125e+00,  2.17128117e+00,  2.44459206e+00,  2.66715068e+00,\n",
       "        2.83633333e+00,  2.95053617e+00,  3.00917684e+00,  3.01267790e+00,\n",
       "        2.96243274e+00,  2.86075514e+00,  2.71081380e+00,  2.51655329e+00,\n",
       "        2.28260332e+00,  2.01417824e+00,  1.71696870e+00,  1.39702774e+00,\n",
       "        1.06065344e+00,  7.14270253e-01,  3.64311280e-01,  1.71034616e-02,\n",
       "       -3.21242294e-01, -6.44934243e-01, -9.48594523e-01, -1.22734400e+00,\n",
       "       -1.47687602e+00, -1.69351793e+00, -1.87427984e+00, -2.01688976e+00,\n",
       "       -2.11981516e+00, -2.18227072e+00, -2.20421259e+00, -2.18631961e+00,\n",
       "       -2.12996213e+00, -2.03715935e+00, -1.91052620e+00, -1.75321110e+00,\n",
       "       -1.56882577e+00, -1.36136867e+00, -1.13514360e+00, -8.94674955e-01,\n",
       "       -6.44621381e-01, -3.89689214e-01, -1.34547429e-01,  1.16254537e-01,\n",
       "        3.58364643e-01,  5.87700543e-01,  8.00515170e-01,  9.93454618e-01,\n",
       "        1.16360749e+00,  1.30854506e+00,  1.42635181e+00,  1.51564596e+00,\n",
       "        1.57558999e+00,  1.60589123e+00,  1.60679263e+00,  1.57905433e+00,\n",
       "        1.52392644e+00,  1.44311386e+00,  1.33873393e+00,  1.21326779e+00,\n",
       "        1.06950659e+00,  9.10493645e-01,  7.39463527e-01,  5.59779438e-01,\n",
       "        3.74869903e-01,  1.88165998e-01,  3.04016752e-03, -1.77252283e-01,\n",
       "       -3.49628073e-01, -5.11226310e-01, -6.59453579e-01, -7.92023057e-01,\n",
       "       -9.06987153e-01, -1.00276323e+00, -1.07815218e+00, -1.13234960e+00,\n",
       "       -1.16494975e+00, -1.17594225e+00, -1.16570178e+00, -1.13497130e+00,\n",
       "       -1.08483906e+00, -1.01671009e+00, -9.32272879e-01, -8.33461739e-01,\n",
       "       -7.22415922e-01, -6.01436088e-01, -4.72939076e-01, -3.39411795e-01,\n",
       "       -2.03365081e-01, -6.72883507e-02,  6.63941666e-02,  1.95364884e-01,\n",
       "        3.17451317e-01,  4.30660938e-01,  5.33211917e-01,  6.23559289e-01,\n",
       "        7.00416217e-01,  7.62770092e-01,  8.09893328e-01,  8.41348799e-01,\n",
       "        8.56989948e-01,  8.56955734e-01,  8.41660611e-01,  8.11779881e-01,\n",
       "        7.68230774e-01,  7.12149733e-01,  6.44866379e-01,  5.67874737e-01,\n",
       "        4.82802287e-01,  3.91377454e-01,  2.95396165e-01,  1.96688076e-01,\n",
       "        9.70831045e-02, -1.62117319e-03, -9.76906787e-02, -1.89484039e-01,\n",
       "       -2.75479370e-01, -3.54298227e-01, -4.24726364e-01, -4.85731029e-01,\n",
       "       -5.36474557e-01, -5.76324146e-01, -6.04857713e-01, -6.21865850e-01,\n",
       "       -6.27349936e-01, -6.21516551e-01, -6.04768378e-01, -5.77691852e-01,\n",
       "       -5.41041869e-01, -4.95723889e-01, -4.42773840e-01, -3.83336222e-01,\n",
       "       -3.18640859e-01, -2.49978743e-01, -1.78677425e-01, -1.06076414e-01,\n",
       "       -3.35029976e-02,  3.77510676e-02,  1.06451627e-01,  1.71442584e-01,\n",
       "        2.31664431e-01,  2.86170566e-01,  3.34141173e-01,  3.74894471e-01,\n",
       "        4.07895218e-01,  4.32760366e-01,  4.49261873e-01,  4.57326667e-01,\n",
       "        4.57033858e-01,  4.48609311e-01,  4.32417748e-01,  4.08952587e-01,\n",
       "        3.78823758e-01,  3.42743764e-01,  3.01512283e-01,  2.55999624e-01,\n",
       "        2.07129366e-01,  1.55860499e-01,  1.03169415e-01,  5.00320538e-02,\n",
       "       -2.59346093e-03, -5.37834171e-02, -1.02664056e-01, -1.48425814e-01,\n",
       "       -1.90336048e-01, -2.27750047e-01, -2.60120199e-01, -2.87003176e-01,\n",
       "       -3.08065078e-01, -3.23084489e-01, -3.31953451e-01, -3.34676393e-01,\n",
       "       -3.31367082e-01, -3.22243713e-01, -3.07622266e-01, -2.87908292e-01,\n",
       "       -2.63587333e-01, -2.35214159e-01, -2.03401060e-01, -1.68805424e-01,\n",
       "       -1.32116838e-01, -9.40439576e-02, -5.53013821e-02, -1.65967719e-02,\n",
       "        2.13815721e-02,  5.79764549e-02,  9.25726710e-02,  1.24606852e-01,\n",
       "        1.53576130e-01,  1.79045500e-01,  2.00653769e-01,  2.18118046e-01,\n",
       "        2.31236710e-01,  2.39890855e-01,  2.44044225e-01,  2.43741676e-01,\n",
       "        2.39106237e-01,  2.30334856e-01,  2.17692939e-01,  2.01507815e-01,\n",
       "        1.82161276e-01,  1.60081336e-01,  1.35733388e-01,  1.09610931e-01,\n",
       "        8.22260374e-02,  5.40997437e-02,  2.57525342e-02, -2.30491360e-03,\n",
       "       -2.95805653e-02, -5.56093001e-02, -7.99604833e-02, -1.02244726e-01,\n",
       "       -1.22119730e-01, -1.39295141e-01, -1.53536348e-01, -1.64667192e-01,\n",
       "       -1.72571557e-01, -1.77193853e-01, -1.78538411e-01, -1.76667821e-01,\n",
       "       -1.71700280e-01, -1.63806019e-01, -1.53202900e-01, -1.40151273e-01,\n",
       "       -1.24948222e-01, -1.07921303e-01, -8.94219068e-02, -6.98183701e-02,\n",
       "       -4.94889693e-02, -2.88149212e-02, -8.17351580e-03,  1.20684989e-02,\n",
       "        3.15611706e-02,  4.99771310e-02,  6.70168307e-02,  8.24131386e-02,\n",
       "        9.59352441e-02,  1.07391808e-01,  1.16633330e-01,  1.23553704e-01])"
      ]
     },
     "execution_count": 26,
     "metadata": {},
     "output_type": "execute_result"
    }
   ],
   "source": [
    "y"
   ]
  },
  {
   "cell_type": "code",
   "execution_count": 27,
   "metadata": {},
   "outputs": [
    {
     "data": {
      "image/png": "[encoded data removed]",
      "text/plain": [
       "<Figure size 432x288 with 1 Axes>"
      ]
     },
     "metadata": {
      "needs_background": "light"
     },
     "output_type": "display_data"
    }
   ],
   "source": [
    "plt.plot(x,y)\n",
    "plt.show()"
   ]
  },
  {
   "cell_type": "code",
   "execution_count": null,
   "metadata": {},
   "outputs": [],
   "source": []
  }
 ],
 "metadata": {
  "kernelspec": {
   "display_name": "Python 3",
   "language": "python",
   "name": "python3"
  },
  "language_info": {
   "codemirror_mode": {
    "name": "ipython",
    "version": 3
   },
   "file_extension": ".py",
   "mimetype": "text/x-python",
   "name": "python",
   "nbconvert_exporter": "python",
   "pygments_lexer": "ipython3",
   "version": "3.7.0"
  }
 },
 "nbformat": 4,
 "nbformat_minor": 2
}
